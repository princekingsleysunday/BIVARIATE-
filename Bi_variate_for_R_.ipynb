{
  "nbformat": 4,
  "nbformat_minor": 0,
  "metadata": {
    "colab": {
      "provenance": []
    },
    "kernelspec": {
      "name": "ir",
      "display_name": "R"
    },
    "language_info": {
      "name": "R"
    }
  },
  "cells": [
    {
      "cell_type": "markdown",
      "source": [
        "## BIVARIATE ANALYSIS FOR R"
      ],
      "metadata": {
        "id": "2a9IZUDp3o6E"
      }
    },
    {
      "cell_type": "code",
      "execution_count": null,
      "metadata": {
        "id": "Tu45ievtll3e"
      },
      "outputs": [],
      "source": [
        "# reading the data\n",
        "data <- read.csv(\"HR_comma_sep.csv\")\n",
        "\n",
        "# calling the first few rows of the data\n",
        "head(data)\n",
        "\n",
        "# assigning the two variables with a name\n",
        "x <- data$number_project\n",
        "y <- data$average_montly_hours\n",
        "\n",
        "# calculating the Correlation coefficient of the variables\n",
        "r <- cor(x,y)\n",
        "\n",
        "\n",
        "# Deduce the value of the correlation coefficient\n",
        "if (r > 0) {\n",
        "  print(\"The variables are positively correlated.\")\n",
        "} else if (r < 0) {\n",
        "  print(\"The variables are negatively correlated.\")\n",
        "} else {\n",
        "  print(\"The variables are not correlated.\")\n",
        "}\n",
        "\n",
        "# assigning the model as a variable so as to be reused and calling the model\n",
        "linear_regression <- lm(y ~ x)\n",
        "lm(y~x)\n"
      ]
    }
  ]
}